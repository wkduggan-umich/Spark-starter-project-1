{
 "cells": [
  {
   "cell_type": "markdown",
   "metadata": {},
   "source": []
  },
  {
   "cell_type": "code",
   "execution_count": null,
   "metadata": {},
   "outputs": [],
   "source": [
    "def processor(can_id):\n",
    "    with open(\"ver1.json\") as f:\n",
    "        jsonfile = json.load(f)\n",
    "    \n",
    "    with open(\"racedata_short.log\") as f:\n",
    "        logfile = f.readlines()\n",
    "    \n",
    "    # Create dataframe\n",
    "    columns = ['line_time', 'line_id']\n",
    "    parsing_data = []\n",
    "    for measurement, info in jsonfile.items():\n",
    "        if info[\"id\"] == hex(can_id):\n",
    "            formatted_measurement = '_'.join(measurement.lower().split(\" \"))\n",
    "            parsing_data.append({formatted_measurement: info})\n",
    "            columns.append(formatted_measurement)\n",
    "    df = pd.DataFrame(columns=columns)\n",
    "\n",
    "    endian = endianness(can_id)\n",
    "\n",
    "    print(endian)\n",
    "\n",
    "    # for line in logfile:\n",
    "\n",
    "    #     # Load individual values from log file\n",
    "    #     split_line = line.split(' ')\n",
    "    #     line_time = split_line[0]\n",
    "    #     # can_bus = line.split(' ')[1]\n",
    "    #     end_content = split_line[2].split('#')\n",
    "    #     line_id = int(end_content[0], 16)\n",
    "    #     line_content = end_content[1]\n",
    "    #     line_content = int(line_content, 16).to_bytes(int(len(line_content)/2)) # Convert to byte array\n",
    "        \n",
    "    #     # Parse line content based on JSON data\n",
    "    #     if can_id == line_id:\n",
    "\n",
    "    #         row = pd.DataFrame({'time': line_time, 'can_id': hex(line_id)})\n",
    "            \n",
    "    #         for data in parsing_data:\n",
    "    #             for measurement, info in data.items():\n",
    "    #                 byte_index = info[\"bytes\"]\n",
    "    #                 measurement_int = int.from_bytes(line_content[byte_index[0]:byte_index[1]], endian)\n",
    "    #                 row[measurement] = measurement_int\n",
    "            \n",
    "    #         df = pd.concat([row, df], axis=1)\n",
    "            \n",
    "    print(df.head)\n",
    "    return df    "
   ]
  },
  {
   "cell_type": "code",
   "execution_count": null,
   "metadata": {},
   "outputs": [],
   "source": [
    "def endianness(can_id: int):\n",
    "    str_id = hex(can_id)[2:]    # Get rid of \"0x\" at the beginning\n",
    "    if str_id.endswith(\"81\"):\n",
    "        return \"little\"\n",
    "    elif str_id.startswith(\"00\"):\n",
    "        return \"big\"\n",
    "    \n",
    "    return None"
   ]
  }
 ],
 "metadata": {
  "language_info": {
   "name": "python"
  },
  "orig_nbformat": 4
 },
 "nbformat": 4,
 "nbformat_minor": 2
}
